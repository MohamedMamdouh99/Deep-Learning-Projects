{
 "cells": [
  {
   "cell_type": "markdown",
   "id": "50189363",
   "metadata": {},
   "source": [
    "# Image Classification Using IceptionV3,ResNet,VGG16"
   ]
  },
  {
   "cell_type": "markdown",
   "id": "2d585a55",
   "metadata": {},
   "source": [
    "Data link : https://www.kaggle.com/puneet6060/intel-image-classification"
   ]
  },
  {
   "cell_type": "markdown",
   "id": "a1c1d863",
   "metadata": {},
   "source": [
    "# Importing The Required Libraries"
   ]
  },
  {
   "cell_type": "code",
   "execution_count": 1,
   "id": "18e02f32",
   "metadata": {},
   "outputs": [],
   "source": [
    "import numpy as np \n",
    "import pandas as pd\n",
    "import glob\n",
    "import os\n",
    "import tensorflow as tf\n",
    "from tensorflow.keras.preprocessing.image import load_img, img_to_array\n",
    "from tensorflow.keras import Model,layers\n",
    "from tensorflow.keras.applications.inception_v3 import InceptionV3\n",
    "from tensorflow.keras.applications import ResNet50\n",
    "from tensorflow.keras.applications import VGG16"
   ]
  },
  {
   "cell_type": "markdown",
   "id": "9401ba5a",
   "metadata": {},
   "source": [
    "# Importing The Dataset"
   ]
  },
  {
   "cell_type": "code",
   "execution_count": 2,
   "id": "f44d0405",
   "metadata": {},
   "outputs": [
    {
     "data": {
      "text/plain": [
       "['seg_train\\\\buildings',\n",
       " 'seg_train\\\\forest',\n",
       " 'seg_train\\\\glacier',\n",
       " 'seg_train\\\\mountain',\n",
       " 'seg_train\\\\sea',\n",
       " 'seg_train\\\\street']"
      ]
     },
     "execution_count": 2,
     "metadata": {},
     "output_type": "execute_result"
    }
   ],
   "source": [
    "glob.glob('seg_train/*')"
   ]
  },
  {
   "cell_type": "code",
   "execution_count": 3,
   "id": "ad66b3a0",
   "metadata": {},
   "outputs": [],
   "source": [
    "def prepare_dataset(path, label):\n",
    "    x_train = []\n",
    "    y_train = []\n",
    "    all_images_path = glob.glob(path+'/*.jpg')\n",
    "    for image_path in all_images_path:\n",
    "        img = load_img(image_path, target_size=(150,150))\n",
    "        img = img_to_array(img)\n",
    "        img = img/255\n",
    "        x_train.append(img)\n",
    "        y_train.append(label)\n",
    "    return np.array(x_train), np.array(y_train)"
   ]
  },
  {
   "cell_type": "code",
   "execution_count": 4,
   "id": "c591ab50",
   "metadata": {},
   "outputs": [
    {
     "name": "stdout",
     "output_type": "stream",
     "text": [
      "['buildings', 'forest', 'glacier', 'mountain', 'sea', 'street']\n"
     ]
    }
   ],
   "source": [
    "paths=glob.glob('seg_train/*')\n",
    "l=len('seg_train/')\n",
    "labels=[]\n",
    "for path in paths:\n",
    "    labels.append(path[l:])\n",
    "print(labels)"
   ]
  },
  {
   "cell_type": "markdown",
   "id": "3b436b05",
   "metadata": {},
   "source": [
    "# Preparing the Train and Test Set"
   ]
  },
  {
   "cell_type": "code",
   "execution_count": 5,
   "id": "967fbe3c",
   "metadata": {},
   "outputs": [
    {
     "name": "stdout",
     "output_type": "stream",
     "text": [
      "building shape training data:  (2191, 150, 150, 3) (2191,)\n",
      "forest training data:  (2271, 150, 150, 3) (2271,)\n",
      "glacier training data:  (2404, 150, 150, 3) (2404,)\n",
      "mountain training data:  (2512, 150, 150, 3) (2512,)\n",
      "sea training data:  (2274, 150, 150, 3) (2274,)\n",
      "street training data:  (2382, 150, 150, 3) (2382,)\n"
     ]
    }
   ],
   "source": [
    "x_train_building, y_train_building  = prepare_dataset(\"seg_train/buildings/\",0)\n",
    "x_train_forest, y_train_forest  = prepare_dataset(\"seg_train/forest/\",1)\n",
    "x_train_glacier, y_train_glacier  = prepare_dataset(\"seg_train/glacier/\",2)\n",
    "x_train_mount, y_train_mount  = prepare_dataset(\"seg_train/mountain/\",3)\n",
    "x_train_sea, y_train_sea  = prepare_dataset(\"seg_train/sea/\",4)\n",
    "x_train_street, y_train_street  = prepare_dataset(\"seg_train/street/\",5)\n",
    "\n",
    "print('building shape training data: ', x_train_building.shape, y_train_building.shape) \n",
    "print('forest training data: ', x_train_forest.shape ,y_train_forest.shape)\n",
    "print('glacier training data: ', x_train_glacier.shape,y_train_glacier.shape)\n",
    "print('mountain training data: ', x_train_mount.shape, y_train_mount.shape)\n",
    "print('sea training data: ', x_train_sea.shape, y_train_sea.shape)\n",
    "print('street training data: ', x_train_street.shape ,y_train_street.shape)"
   ]
  },
  {
   "cell_type": "code",
   "execution_count": 6,
   "id": "34649645",
   "metadata": {},
   "outputs": [
    {
     "name": "stdout",
     "output_type": "stream",
     "text": [
      "(14034, 150, 150, 3)\n",
      "(14034,)\n"
     ]
    }
   ],
   "source": [
    "x_train=np.concatenate((x_train_building,x_train_forest,x_train_glacier,x_train_mount,x_train_sea,x_train_street),axis=0)\n",
    "y_train=np.concatenate((y_train_building,y_train_forest,y_train_glacier,y_train_mount,y_train_sea,y_train_street),axis=0)\n",
    "print(x_train.shape)\n",
    "print(y_train.shape)"
   ]
  },
  {
   "cell_type": "code",
   "execution_count": 7,
   "id": "cfad32b3",
   "metadata": {},
   "outputs": [
    {
     "name": "stdout",
     "output_type": "stream",
     "text": [
      "building shape test data:  (437, 150, 150, 3) (437,)\n",
      "forest test data:  (474, 150, 150, 3) (474,)\n",
      "glacier test data:  (553, 150, 150, 3) (553,)\n",
      "mountain test data:  (525, 150, 150, 3) (525,)\n",
      "sea test data:  (510, 150, 150, 3) (510,)\n",
      "street test data:  (501, 150, 150, 3) (501,)\n"
     ]
    }
   ],
   "source": [
    "x_test_building, y_test_building  = prepare_dataset(\"seg_test/buildings/\",0)\n",
    "x_test_forest, y_test_forest = prepare_dataset(\"seg_test/forest/\",1)\n",
    "x_test_glacier, y_test_glacier = prepare_dataset(\"seg_test/glacier/\",2)\n",
    "x_test_mount, y_test_mount = prepare_dataset(\"seg_test/mountain/\",3)\n",
    "x_test_sea, y_test_sea = prepare_dataset(\"seg_test/sea/\",4)\n",
    "x_test_street, y_test_street = prepare_dataset(\"seg_test/street/\",5)\n",
    "\n",
    "print('building shape test data: ', x_test_building.shape, y_test_building.shape) \n",
    "print('forest test data: ', x_test_forest.shape ,y_test_forest.shape)\n",
    "print('glacier test data: ', x_test_glacier.shape,y_test_glacier.shape)\n",
    "print('mountain test data: ', x_test_mount.shape, y_test_mount.shape)\n",
    "print('sea test data: ', x_test_sea.shape, y_test_sea.shape)\n",
    "print('street test data: ', x_test_street.shape ,y_test_street.shape)"
   ]
  },
  {
   "cell_type": "code",
   "execution_count": 8,
   "id": "d20ede3f",
   "metadata": {},
   "outputs": [
    {
     "name": "stdout",
     "output_type": "stream",
     "text": [
      "(3000, 150, 150, 3)\n",
      "(3000,)\n"
     ]
    }
   ],
   "source": [
    "x_test=np.concatenate((x_test_building,x_test_forest,x_test_glacier,x_test_mount,x_test_sea,x_test_street),axis=0)\n",
    "y_test=np.concatenate((y_test_building,y_test_forest,y_test_glacier,y_test_mount,y_test_sea,y_test_street),axis=0)\n",
    "print(x_test.shape)\n",
    "print(y_test.shape)"
   ]
  },
  {
   "cell_type": "markdown",
   "id": "404474bb",
   "metadata": {},
   "source": [
    "# Implementing Inception V3"
   ]
  },
  {
   "cell_type": "code",
   "execution_count": 9,
   "id": "e079dabf",
   "metadata": {},
   "outputs": [],
   "source": [
    "pre_trained_model = InceptionV3(input_shape = (150, 150, 3), \n",
    "                                include_top = False, \n",
    "                                weights = 'imagenet')\n"
   ]
  },
  {
   "cell_type": "code",
   "execution_count": 10,
   "id": "97f50d60",
   "metadata": {},
   "outputs": [],
   "source": [
    "for layer in pre_trained_model.layers:\n",
    "    layer.trainable = False\n",
    "    \n",
    "last_layer = pre_trained_model.output\n",
    "x = layers.Flatten()(last_layer)\n",
    "x = layers.Dense(2048, activation='relu')(x)\n",
    "x = layers.Dropout(0.2)(x)                  \n",
    "x = layers.Dense(6, activation='softmax')(x)\n",
    "\n",
    "model = Model(pre_trained_model.input, x) "
   ]
  },
  {
   "cell_type": "code",
   "execution_count": 11,
   "id": "5645aa0c",
   "metadata": {},
   "outputs": [],
   "source": [
    "model.compile(optimizer = 'adam', \n",
    "              loss = 'sparse_categorical_crossentropy', \n",
    "              metrics = ['acc'])"
   ]
  },
  {
   "cell_type": "code",
   "execution_count": 12,
   "id": "6f4fe084",
   "metadata": {},
   "outputs": [
    {
     "name": "stdout",
     "output_type": "stream",
     "text": [
      "Epoch 1/5\n",
      "439/439 [==============================] - 607s 1s/step - loss: 2.1431 - acc: 0.8378 - val_loss: 0.3235 - val_acc: 0.8717\n",
      "Epoch 2/5\n",
      "439/439 [==============================] - 604s 1s/step - loss: 0.2924 - acc: 0.8948 - val_loss: 0.3399 - val_acc: 0.8853\n",
      "Epoch 3/5\n",
      "439/439 [==============================] - 612s 1s/step - loss: 0.2526 - acc: 0.9089 - val_loss: 0.2983 - val_acc: 0.8977\n",
      "Epoch 4/5\n",
      "439/439 [==============================] - 610s 1s/step - loss: 0.2165 - acc: 0.9193 - val_loss: 0.3347 - val_acc: 0.8863\n",
      "Epoch 5/5\n",
      "439/439 [==============================] - 616s 1s/step - loss: 0.2061 - acc: 0.9270 - val_loss: 0.3455 - val_acc: 0.8867\n"
     ]
    },
    {
     "data": {
      "text/plain": [
       "<tensorflow.python.keras.callbacks.History at 0x1bce0259730>"
      ]
     },
     "execution_count": 12,
     "metadata": {},
     "output_type": "execute_result"
    }
   ],
   "source": [
    "model.fit(x_train,y_train,epochs=5,validation_data=(x_test,y_test))"
   ]
  },
  {
   "cell_type": "markdown",
   "id": "4b6cf9fe",
   "metadata": {},
   "source": [
    "# Implementing ResNet 50 (using ImageNet)"
   ]
  },
  {
   "cell_type": "code",
   "execution_count": 22,
   "id": "3828b32f",
   "metadata": {},
   "outputs": [],
   "source": [
    "pretrained_model=ResNet50( input_shape=(150,150,3),\n",
    "                                  include_top=False,\n",
    "                                  weights='imagenet')"
   ]
  },
  {
   "cell_type": "code",
   "execution_count": 26,
   "id": "0c27dafc",
   "metadata": {},
   "outputs": [],
   "source": [
    "for layer in pretrained_model.layers:\n",
    "     layer.trainable = False\n",
    "        \n",
    "last_layer = pretrained_model.get_layer('conv5_block3_out')\n",
    "last_output = last_layer.output\n",
    "\n",
    "x = layers.Flatten()(last_output)\n",
    "x = layers.Dense(1024, activation='relu')(x)\n",
    "x = layers.Dropout(0.2)(x)                  \n",
    "x = layers.Dense(6, activation='softmax')(x)\n",
    "\n",
    "model_resnet = Model(pretrained_model.input, x) "
   ]
  },
  {
   "cell_type": "code",
   "execution_count": 27,
   "id": "e7e42773",
   "metadata": {},
   "outputs": [],
   "source": [
    "model_resnet.compile(optimizer = 'adam', \n",
    "              loss = 'sparse_categorical_crossentropy', \n",
    "              metrics = ['acc'])"
   ]
  },
  {
   "cell_type": "code",
   "execution_count": 28,
   "id": "2047aa0e",
   "metadata": {},
   "outputs": [
    {
     "name": "stdout",
     "output_type": "stream",
     "text": [
      "Epoch 1/5\n",
      "439/439 [==============================] - 1026s 2s/step - loss: 1.5917 - acc: 0.4615 - val_loss: 1.1055 - val_acc: 0.5217\n",
      "Epoch 2/5\n",
      "439/439 [==============================] - 1029s 2s/step - loss: 1.0323 - acc: 0.5809 - val_loss: 0.9190 - val_acc: 0.6357\n",
      "Epoch 3/5\n",
      "439/439 [==============================] - 1030s 2s/step - loss: 0.9751 - acc: 0.6065 - val_loss: 0.9052 - val_acc: 0.6403\n",
      "Epoch 4/5\n",
      "439/439 [==============================] - 1080s 2s/step - loss: 0.9382 - acc: 0.6202 - val_loss: 0.8680 - val_acc: 0.6697\n",
      "Epoch 5/5\n",
      "439/439 [==============================] - 1073s 2s/step - loss: 0.9316 - acc: 0.6256 - val_loss: 0.9091 - val_acc: 0.6387\n"
     ]
    },
    {
     "data": {
      "text/plain": [
       "<tensorflow.python.keras.callbacks.History at 0x1bd0b23d700>"
      ]
     },
     "execution_count": 28,
     "metadata": {},
     "output_type": "execute_result"
    }
   ],
   "source": [
    "model_resnet.fit(x_train,y_train,epochs=5,validation_data=(x_test,y_test))"
   ]
  },
  {
   "cell_type": "markdown",
   "id": "2c672e7a",
   "metadata": {},
   "source": [
    "# Implementing VGG 16 "
   ]
  },
  {
   "cell_type": "code",
   "execution_count": 9,
   "id": "da37adb6",
   "metadata": {},
   "outputs": [
    {
     "name": "stdout",
     "output_type": "stream",
     "text": [
      "Downloading data from https://storage.googleapis.com/tensorflow/keras-applications/vgg16/vgg16_weights_tf_dim_ordering_tf_kernels_notop.h5\n",
      "58892288/58889256 [==============================] - 193s 3us/step\n"
     ]
    }
   ],
   "source": [
    "pre_trained_model = VGG16(input_shape = (150, 150, 3), \n",
    "                                include_top = False, \n",
    "                                weights = 'imagenet')"
   ]
  },
  {
   "cell_type": "code",
   "execution_count": 12,
   "id": "872171ef",
   "metadata": {},
   "outputs": [],
   "source": [
    "for layer in pre_trained_model.layers:\n",
    "    layer.trainable = False\n",
    "    \n",
    "last_layer = pre_trained_model.output\n",
    "x = layers.Flatten()(last_layer)\n",
    "x = layers.Dense(2048, activation='relu')(x)\n",
    "x = layers.Dropout(0.2)(x)                  \n",
    "x = layers.Dense(6, activation='softmax')(x)\n",
    "\n",
    "vgg_model = Model(pre_trained_model.input, x) "
   ]
  },
  {
   "cell_type": "code",
   "execution_count": 13,
   "id": "362f29c7",
   "metadata": {},
   "outputs": [],
   "source": [
    "vgg_model.compile(optimizer = 'adam', \n",
    "              loss = 'sparse_categorical_crossentropy', \n",
    "              metrics = ['acc'])"
   ]
  },
  {
   "cell_type": "code",
   "execution_count": 14,
   "id": "4019d1ea",
   "metadata": {},
   "outputs": [
    {
     "name": "stdout",
     "output_type": "stream",
     "text": [
      "Epoch 1/5\n",
      "439/439 [==============================] - 2556s 6s/step - loss: 0.5352 - acc: 0.8224 - val_loss: 0.4000 - val_acc: 0.8487\n",
      "Epoch 2/5\n",
      "439/439 [==============================] - 2499s 6s/step - loss: 0.3182 - acc: 0.8841 - val_loss: 0.4047 - val_acc: 0.8397\n",
      "Epoch 3/5\n",
      "439/439 [==============================] - 2529s 6s/step - loss: 0.2597 - acc: 0.9032 - val_loss: 0.3509 - val_acc: 0.8697\n",
      "Epoch 4/5\n",
      "439/439 [==============================] - 2688s 6s/step - loss: 0.2180 - acc: 0.9181 - val_loss: 0.3441 - val_acc: 0.8803\n",
      "Epoch 5/5\n",
      "439/439 [==============================] - 3303s 8s/step - loss: 0.1836 - acc: 0.9302 - val_loss: 0.3549 - val_acc: 0.8820\n"
     ]
    },
    {
     "data": {
      "text/plain": [
       "<tensorflow.python.keras.callbacks.History at 0x23ce0f9da00>"
      ]
     },
     "execution_count": 14,
     "metadata": {},
     "output_type": "execute_result"
    }
   ],
   "source": [
    "vgg_model.fit(x_train,y_train,epochs=5,validation_data=(x_test,y_test))"
   ]
  },
  {
   "cell_type": "code",
   "execution_count": null,
   "id": "cd2b3194",
   "metadata": {},
   "outputs": [],
   "source": []
  }
 ],
 "metadata": {
  "kernelspec": {
   "display_name": "Python 3 (ipykernel)",
   "language": "python",
   "name": "python3"
  },
  "language_info": {
   "codemirror_mode": {
    "name": "ipython",
    "version": 3
   },
   "file_extension": ".py",
   "mimetype": "text/x-python",
   "name": "python",
   "nbconvert_exporter": "python",
   "pygments_lexer": "ipython3",
   "version": "3.8.12"
  }
 },
 "nbformat": 4,
 "nbformat_minor": 5
}
